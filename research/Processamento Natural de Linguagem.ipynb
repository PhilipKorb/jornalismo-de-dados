{
 "cells": [
  {
   "cell_type": "markdown",
   "metadata": {
    "collapsed": true
   },
   "source": [
    "# Processamento Natural de Linguagem [PLN]\n",
    "\n",
    "- O que é?\n",
    "- Por que é importante?\n",
    "- Ferramentas disponíveis\n",
    "- Scrapping de dados\n",
    "- Como análisar usando PLN e exemplos atuais\n",
    "- Referências"
   ]
  },
  {
   "cell_type": "markdown",
   "metadata": {},
   "source": [
    "## O que é?\n",
    "\n",
    "A área de Inteligência Artificial que busca técnicas de como uma máquina pode compreender a linguagem humana.\n",
    "Para isso, são necessárias ferramentas que permitam análise da linguagem como ela é. Por exemplo: análise sintática, semântica, léxica.."
   ]
  },
  {
   "cell_type": "markdown",
   "metadata": {},
   "source": [
    "## Por que é importante?\n",
    "\n",
    "Com PLN somos capazes de análisar grandes quantidades de dados quase que instantâneamente, usando ferramentas que auxiliam em várias tarefas que seriam impossíveis de serem completadas apenas com trabalho de análise manual.\n",
    "\n",
    "Existem algumas tarefas básicas que podem ser realizadas com PLN:\n",
    "\n",
    "**1 - Normalização de strings:**\n",
    "\n",
    "Para facilitar a análise de grandes bases de dados, podemos transformar letras maiúsculas em minúsculas, remover acentos, caracteres especiais e talvez conteúdo que não interesse na análise que buscamos.\n",
    "\n",
    "Exemplo: método de normalização de strings\n",
    "\n",
    "**2 - Remoção de stopwords**\n",
    "\n",
    "Se buscamos saber quais são as palavras mais utilizadas em um texto, de forma que apareça apenas o conteúdo que nos interessa, precisamos remover palavras muito frequentes da nossa língua, como por exemplo: \"a\", \"de\", \"que\". Para isso usamos métodos de automatização com PLN.\n",
    "\n",
    "Exemplo: método de remoção do NLTK, wordclouds\n",
    "\n",
    "**3 - Correção ortográfica**\n",
    "\n",
    "Existem formas de corrigir erros de digitação com PLN, para isso podemos usar diversas estratégias, como por exemplo: extrair os radicais das palavras, fazer comparações com outras palavras da língua. Se uma palavra não é parecida o suficiente com outras da língua em questão, pode ser que esteja mal escrita.\n",
    "\n",
    "Exemplo: Stemming e lematização"
   ]
  },
  {
   "cell_type": "markdown",
   "metadata": {},
   "source": [
    "## Ferramentas disponíveis\n",
    "\n",
    "Como podemos análisar textos, bases de dados na prática? Algumas ferramentas que experimento:\n",
    "\n",
    "**1 - Python e Anaconda**\n",
    "\n",
    "Python é uma linguagem de programação que tem sido amplamente utilizada para estudos de inteligência artificial, por permitir que tenhamos bons resultados, usando um código mais simples, mas significativo. Não faz tudo sozinho, mas também nos dá flexibilidade para programar.\n",
    "\n",
    "Python já possui inúmeros módulos, que facilitam a construção de códigos que nos auxiliem no uso de PLN. Abaixo vou explicar a fundo alguns que conheço e faço uso diaramente.\n",
    "\n",
    "Anaconda[5] é uma distribuição de python e R (outra linguagem para estudos de dados, focado em estatística) para processamento de bases de dados grandes. Com ela, já vem incluído vários módulos úteis para nosso desenvolvimento.\n",
    "\n",
    "**2 - Jupyter Notebook[6]**\n",
    "\n",
    "Aplicação que permite a criação e compartilhamento de documentos que contém tanto código quanto descrições narrativas de análises com bases grandes de dados.\n",
    "\n",
    "**3 - NLTK[1]: Natural Language Toolkit**\n",
    "\n",
    "Um dos principais módulos em python para construir códigos que trabalham com dados de linguagem humana. \n",
    "\n",
    "Tem uma versão em português: http://www.nltk.org/howto/portuguese_en.html\n",
    "\n",
    "**4 - Pandas[7]**\n",
    "\n",
    "Módulo que simplifica a manipulação de bases grandes de dados.\n",
    "\n",
    "**5 - Numpy[8]**\n",
    "\n",
    "Módulo para computação científica em python. É usada para cálculo estatistíco, junto com Pandas."
   ]
  },
  {
   "cell_type": "markdown",
   "metadata": {},
   "source": [
    "## Scrapping de dados\n",
    "\n",
    "Python possui também ferraments que ajudam a criar bases de dados, sendo assim, podemos buscar o conteúdo de várias páginas da internet e compilá-los usando ferramentas que facilitam essa busca.\n",
    "\n",
    "**1 - Beautiful Soup[9]**\n",
    "\n",
    "Módulo para pegar dados de HTML e XML na web, com uso simples, consegue buscar dados de várias fontes diferentes.\n",
    "\n",
    "\n",
    "**2 - Scrapy[10]**\n",
    "\n",
    "Outro módulo para extração de arquivos da web."
   ]
  },
  {
   "cell_type": "markdown",
   "metadata": {},
   "source": [
    "## Como análisar usando PLN\n",
    "\n",
    "\n",
    "**1 - Normalização de Strings**\n",
    "\n",
    "**2 - Remoção de Stopwords**\n",
    "\n",
    "**3 - Wordcloud**\n",
    "\n",
    "**4 - Stemming e Lematização**"
   ]
  },
  {
   "cell_type": "code",
   "execution_count": null,
   "metadata": {
    "collapsed": true
   },
   "outputs": [],
   "source": []
  },
  {
   "cell_type": "markdown",
   "metadata": {},
   "source": [
    "## Referências\n",
    "* [1]: http://www.nltk.org/\n",
    "* [2]: https://medium.com/botsbrasil/o-que-%C3%A9-o-processamento-de-linguagem-natural-49ece9371cff* \n",
    "* [3]: https://github.com/generonumero/tse_candidatos_2016/blob/master/GN_receitas_candidatos_2016.ipynb\n",
    "* [4]: https://github.com/rafapetter/suspeitando/blob/master/analise/licitacoes.ipynb\n",
    "* [5]: https://anaconda.org/\n",
    "* [6]: http://jupyter.org/\n",
    "* [7]: https://pandas.pydata.org/\n",
    "* [8]: http://www.numpy.org/\n",
    "* [9]: https://www.crummy.com/software/BeautifulSoup/bs4/doc/\n",
    "* [10]: https://scrapy.org/"
   ]
  },
  {
   "cell_type": "code",
   "execution_count": null,
   "metadata": {
    "collapsed": true
   },
   "outputs": [],
   "source": []
  }
 ],
 "metadata": {
  "kernelspec": {
   "display_name": "Python 3",
   "language": "python",
   "name": "python3"
  },
  "language_info": {
   "codemirror_mode": {
    "name": "ipython",
    "version": 3
   },
   "file_extension": ".py",
   "mimetype": "text/x-python",
   "name": "python",
   "nbconvert_exporter": "python",
   "pygments_lexer": "ipython3",
   "version": "3.6.2"
  }
 },
 "nbformat": 4,
 "nbformat_minor": 2
}
