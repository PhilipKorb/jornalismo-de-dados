{
 "cells": [
  {
   "cell_type": "markdown",
   "metadata": {
    "collapsed": true
   },
   "source": [
    "# Processamento Natural de Linguagem [PLN]\n",
    "\n",
    "- O que é?\n",
    "- Por que é importante?\n",
    "- Ferramentas disponíveis\n",
    "- Scrapping de dados\n",
    "- Como análisar usando PLN e exemplos atuais\n",
    "- Referências"
   ]
  },
  {
   "cell_type": "markdown",
   "metadata": {},
   "source": [
    "## O que é?\n",
    "\n",
    "A área de Inteligência Artificial que busca técnicas de como uma máquina pode compreender a linguagem humana.\n",
    "Para isso, são necessárias ferramentas que permitam análise da linguagem como ela é. Por exemplo: análise sintática, semântica, léxica.."
   ]
  },
  {
   "cell_type": "markdown",
   "metadata": {},
   "source": [
    "## Por que é importante?\n",
    "\n",
    "Com PLN somos capazes de análisar grandes quantidades de dados quase que instantâneamente, usando ferramentas que auxiliam em várias tarefas que seriam impossíveis de serem completadas apenas com trabalho de análise manual.\n",
    "\n",
    "Existem algumas tarefas básicas que podem ser realizadas com PLN:\n",
    "\n",
    "**1 - Normalização de strings:**\n",
    "\n",
    "Para facilitar a análise de grandes bases de dados, podemos transformar letras maiúsculas em minúsculas, remover acentos, caracteres especiais e talvez conteúdo que não interesse na análise que buscamos.\n",
    "\n",
    "Exemplo: método de normalização de strings\n",
    "\n",
    "**2 - Remoção de stopwords**\n",
    "\n",
    "Se buscamos saber quais são as palavras mais utilizadas em um texto, de forma que apareça apenas o conteúdo que nos interessa, precisamos remover palavras muito frequentes da nossa língua, como por exemplo: \"a\", \"de\", \"que\". Para isso usamos métodos de automatização com PLN.\n",
    "\n",
    "Exemplo: método de remoção do NLTK, wordclouds\n",
    "\n",
    "**3 - Correção ortográfica**\n",
    "\n",
    "Existem formas de corrigir erros de digitação com PLN, para isso podemos usar diversas estratégias, como por exemplo: extrair os radicais das palavras, fazer comparações com outras palavras da língua. Se uma palavra não é parecida o suficiente com outras da língua em questão, pode ser que esteja mal escrita.\n",
    "\n",
    "Exemplo: Stemming e lematização"
   ]
  },
  {
   "cell_type": "markdown",
   "metadata": {},
   "source": [
    "## Ferramentas disponíveis\n",
    "\n",
    "Como podemos análisar textos, bases de dados na prática? Algumas ferramentas que experimento:\n",
    "\n",
    "**1 - Python e Anaconda**\n",
    "\n",
    "Python é uma linguagem de programação que tem sido amplamente utilizada para estudos de inteligência artificial, por permitir que tenhamos bons resultados, usando um código mais simples, mas significativo. Não faz tudo sozinho, mas também nos dá flexibilidade para programar.\n",
    "\n",
    "Python já possui inúmeros módulos, que facilitam a construção de códigos que nos auxiliem no uso de PLN. Abaixo vou explicar a fundo alguns que conheço e faço uso diaramente.\n",
    "\n",
    "Anaconda[5] é uma distribuição de python e R (outra linguagem para estudos de dados, focado em estatística) para processamento de bases de dados grandes. Com ela, já vem incluído vários módulos úteis para nosso desenvolvimento.\n",
    "\n",
    "**2 - Jupyter Notebook[6]**\n",
    "\n",
    "Aplicação que permite a criação e compartilhamento de documentos que contém tanto código quanto descrições narrativas de análises com bases grandes de dados.\n",
    "\n",
    "**3 - NLTK[1]: Natural Language Toolkit**\n",
    "\n",
    "Um dos principais módulos em python para construir códigos que trabalham com dados de linguagem humana. \n",
    "\n",
    "Tem uma versão em português: http://www.nltk.org/howto/portuguese_en.html\n",
    "\n",
    "**4 - Pandas[7]**\n",
    "\n",
    "Módulo que simplifica a manipulação de bases grandes de dados.\n",
    "\n",
    "**5 - Numpy[8]**\n",
    "\n",
    "Módulo para computação científica em python. É usada para cálculo estatistíco, junto com Pandas."
   ]
  },
  {
   "cell_type": "markdown",
   "metadata": {},
   "source": [
    "## Scrapping de dados\n",
    "\n",
    "Python possui também ferraments que ajudam a criar bases de dados, sendo assim, podemos buscar o conteúdo de várias páginas da internet e compilá-los usando ferramentas que facilitam essa busca.\n",
    "\n",
    "**1 - Beautiful Soup[9]**\n",
    "\n",
    "Módulo para pegar dados de HTML e XML na web, com uso simples, consegue buscar dados de várias fontes diferentes.\n",
    "\n",
    "\n",
    "**2 - Scrapy[10]**\n",
    "\n",
    "Outro módulo para extração de arquivos da web."
   ]
  },
  {
   "cell_type": "markdown",
   "metadata": {},
   "source": [
    "## Como análisar usando PLN\n",
    "\n",
    "Base de dados utilizada: [CSTCorpus](http://nilc.icmc.usp.br/CSTNews/login/about)\n",
    "\n",
    "**1 - Normalização de Strings**\n",
    "\n",
    "**2 - Remoção de Stopwords**\n",
    "\n",
    "**3 - Wordcloud**\n",
    "\n",
    "**4 - Stemming e Lematização**"
   ]
  },
  {
   "cell_type": "code",
   "execution_count": 1,
   "metadata": {
    "collapsed": true
   },
   "outputs": [],
   "source": [
    "import nltk"
   ]
  },
  {
   "cell_type": "code",
   "execution_count": 2,
   "metadata": {},
   "outputs": [
    {
     "name": "stdout",
     "output_type": "stream",
     "text": [
      "Um acidente aéreo na localidade de Bukavu, no leste da República Democrática do Congo, matou 17 pessoas na quinta-feira à tarde, informou hoje um porta-voz das Nações Unidas.\n",
      "\n",
      "As vítimas do acidente foram 14 passageiros e três membros da tripulação. Todos morreram quando o avião, prejudicado pelo mau tempo, não conseguiu chegar à pista de aterrissagem e caiu numa floresta a 15 Km do aeroporto de Bukavu.\n",
      "\n",
      "O avião explodiu e se incendiou, acrescentou o porta-voz da ONU em Kinshasa, Jean-Tobias Okala. \"Não houve sobreviventes\", disse Okala.\n",
      "\n",
      "O porta-voz informou que o avião, um Soviet Antonov-28 de fabricação ucraniana e propriedade de uma companhia congolesa, a Trasept Congo, também levava uma carga de minerais.\n",
      "\n",
      "Segundo fontes aeroportuárias, os membros da tripulação eram de nacionalidade russa. \n",
      "\n"
     ]
    }
   ],
   "source": [
    "# Leitura do Sample\n",
    "\n",
    "f = open('../data/sample.txt')\n",
    "dataset = f.read()\n",
    "\n",
    "print(dataset)"
   ]
  },
  {
   "cell_type": "markdown",
   "metadata": {},
   "source": [
    "### Tokenização em sentenças, palavras e expressão regulares\n",
    "\n",
    "Token é um pedaço de um todo, então:\n",
    "\n",
    "uma palavra é um token em uma sentença;\n",
    "uma sentença é um token em um paragrafo."
   ]
  },
  {
   "cell_type": "markdown",
   "metadata": {},
   "source": [
    "#### Tokenização de sentenças"
   ]
  },
  {
   "cell_type": "code",
   "execution_count": 3,
   "metadata": {},
   "outputs": [
    {
     "name": "stdout",
     "output_type": "stream",
     "text": [
      "['Um acidente aéreo na localidade de Bukavu, no leste da República Democrática do Congo, matou 17 pessoas na quinta-feira à tarde, informou hoje um porta-voz das Nações Unidas.', 'As vítimas do acidente foram 14 passageiros e três membros da tripulação.', 'Todos morreram quando o avião, prejudicado pelo mau tempo, não conseguiu chegar à pista de aterrissagem e caiu numa floresta a 15 Km do aeroporto de Bukavu.', 'O avião explodiu e se incendiou, acrescentou o porta-voz da ONU em Kinshasa, Jean-Tobias Okala.', '\"Não houve sobreviventes\", disse Okala.', 'O porta-voz informou que o avião, um Soviet Antonov-28 de fabricação ucraniana e propriedade de uma companhia congolesa, a Trasept Congo, também levava uma carga de minerais.', 'Segundo fontes aeroportuárias, os membros da tripulação eram de nacionalidade russa.']\n"
     ]
    }
   ],
   "source": [
    "from nltk.tokenize import sent_tokenize\n",
    "\n",
    "sentence_tokenized = sent_tokenize(dataset)\n",
    "print(sentence_tokenized)"
   ]
  },
  {
   "cell_type": "code",
   "execution_count": 4,
   "metadata": {},
   "outputs": [
    {
     "data": {
      "text/plain": [
       "7"
      ]
     },
     "execution_count": 4,
     "metadata": {},
     "output_type": "execute_result"
    }
   ],
   "source": [
    "len(sentence_tokenized)"
   ]
  },
  {
   "cell_type": "markdown",
   "metadata": {},
   "source": [
    "### Normalização de texto"
   ]
  },
  {
   "cell_type": "code",
   "execution_count": 5,
   "metadata": {},
   "outputs": [
    {
     "name": "stdout",
     "output_type": "stream",
     "text": [
      "um acidente aereo na localidade de bukavu, no leste da republica democratica do congo, matou 17 pessoas na quinta-feira a tarde, informou hoje um porta-voz das nacoes unidas.\n"
     ]
    }
   ],
   "source": [
    "import unicodedata \n",
    "\n",
    "def normalize_string(string):\n",
    "    if isinstance(string, str):\n",
    "        nfkd_form = unicodedata.normalize('NFKD', string.lower())\n",
    "        return nfkd_form.encode('ASCII', 'ignore').decode('utf-8')\n",
    "    \n",
    "print(normalize_string(sentence_tokenized[0]))"
   ]
  },
  {
   "cell_type": "markdown",
   "metadata": {},
   "source": [
    "#### Tokenização em Português"
   ]
  },
  {
   "cell_type": "code",
   "execution_count": 6,
   "metadata": {},
   "outputs": [
    {
     "data": {
      "text/plain": [
       "['Um acidente aéreo na localidade de Bukavu, no leste da República Democrática do Congo, matou 17 pessoas na quinta-feira à tarde, informou hoje um porta-voz das Nações Unidas.',\n",
       " 'As vítimas do acidente foram 14 passageiros e três membros da tripulação.',\n",
       " 'Todos morreram quando o avião, prejudicado pelo mau tempo, não conseguiu chegar à pista de aterrissagem e caiu numa floresta a 15 Km do aeroporto de Bukavu.',\n",
       " 'O avião explodiu e se incendiou, acrescentou o porta-voz da ONU em Kinshasa, Jean-Tobias Okala.',\n",
       " '\"Não houve sobreviventes\", disse Okala.',\n",
       " 'O porta-voz informou que o avião, um Soviet Antonov-28 de fabricação ucraniana e propriedade de uma companhia congolesa, a Trasept Congo, também levava uma carga de minerais.',\n",
       " 'Segundo fontes aeroportuárias, os membros da tripulação eram de nacionalidade russa.']"
      ]
     },
     "execution_count": 6,
     "metadata": {},
     "output_type": "execute_result"
    }
   ],
   "source": [
    "import nltk.data\n",
    "portuguese_tokenizer = nltk.data.load('tokenizers/punkt/PY3/portuguese.pickle')\n",
    "portuguese_tokenizer.tokenize(dataset)"
   ]
  },
  {
   "cell_type": "markdown",
   "metadata": {},
   "source": [
    "#### Tokenização em palavras \n",
    "\n",
    "Para a primeira sentença do texto."
   ]
  },
  {
   "cell_type": "code",
   "execution_count": 7,
   "metadata": {},
   "outputs": [
    {
     "name": "stdout",
     "output_type": "stream",
     "text": [
      "['Um', 'acidente', 'aéreo', 'na', 'localidade', 'de', 'Bukavu', ',', 'no', 'leste', 'da', 'República', 'Democrática', 'do', 'Congo', ',', 'matou', '17', 'pessoas', 'na', 'quinta-feira', 'à', 'tarde', ',', 'informou', 'hoje', 'um', 'porta-voz', 'das', 'Nações', 'Unidas', '.']\n"
     ]
    }
   ],
   "source": [
    "from nltk.tokenize import word_tokenize\n",
    "\n",
    "first_sentence_word_tokenized = word_tokenize(sentence_tokenized[0])\n",
    "print(first_sentence_word_tokenized)"
   ]
  },
  {
   "cell_type": "markdown",
   "metadata": {},
   "source": [
    "#### Tokenização com expressão regular\n",
    "\n",
    "Para pegar apenas palavras em um texto."
   ]
  },
  {
   "cell_type": "code",
   "execution_count": 8,
   "metadata": {},
   "outputs": [
    {
     "name": "stdout",
     "output_type": "stream",
     "text": [
      "['Um', 'acidente', 'aéreo', 'na', 'localidade', 'de', 'Bukavu', 'no', 'leste', 'da', 'República', 'Democrática', 'do', 'Congo', 'matou', '17', 'pessoas', 'na', 'quinta', 'feira', 'à', 'tarde', 'informou', 'hoje', 'um', 'porta', 'voz', 'das', 'Nações', 'Unidas']\n"
     ]
    }
   ],
   "source": [
    "from nltk.tokenize import RegexpTokenizer\n",
    "tokenizer = RegexpTokenizer(\"[\\w']+\")\n",
    "\n",
    "first_sentence_word_tokenized_without_punctuation = tokenizer.tokenize(sentence_tokenized[0])\n",
    "print(first_sentence_word_tokenized_without_punctuation)"
   ]
  },
  {
   "cell_type": "markdown",
   "metadata": {},
   "source": [
    "### Filtrando stopwords!\n",
    "\n",
    "Stopwords são palavras que geralmente não contribuem para o significado de uma sentença."
   ]
  },
  {
   "cell_type": "code",
   "execution_count": 9,
   "metadata": {},
   "outputs": [
    {
     "name": "stdout",
     "output_type": "stream",
     "text": [
      "['Um', 'acidente', 'aéreo', 'localidade', 'Bukavu', 'leste', 'República', 'Democrática', 'Congo', 'matou', '17', 'pessoas', 'quinta', 'feira', 'tarde', 'informou', 'hoje', 'porta', 'voz', 'Nações', 'Unidas']\n"
     ]
    }
   ],
   "source": [
    "from nltk.corpus import stopwords\n",
    "\n",
    "portuguese_stops = set(stopwords.words('portuguese'))\n",
    "words = first_sentence_word_tokenized_without_punctuation\n",
    "\n",
    "words_without_stop = [word for word in words if word not in portuguese_stops]\n",
    "print(words_without_stop)"
   ]
  },
  {
   "cell_type": "markdown",
   "metadata": {},
   "source": [
    "### Stemming\n",
    "\n",
    "Stemming é a técnica que remove os afixos das palavras, deixando apenas seu radical, existe uma versão em Português que é `RSLPStemmer`"
   ]
  },
  {
   "cell_type": "code",
   "execution_count": 10,
   "metadata": {},
   "outputs": [
    {
     "name": "stdout",
     "output_type": "stream",
     "text": [
      "acid\n"
     ]
    }
   ],
   "source": [
    "from nltk.stem import RSLPStemmer\n",
    "\n",
    "stemmer = RSLPStemmer()\n",
    "stem_acidente = stemmer.stem(words_without_stop[1]) #acidente\n",
    "print(stem_acidente)"
   ]
  },
  {
   "cell_type": "markdown",
   "metadata": {},
   "source": [
    "## Referências\n",
    "* [1]: http://www.nltk.org/\n",
    "* [2]: https://medium.com/botsbrasil/o-que-%C3%A9-o-processamento-de-linguagem-natural-49ece9371cff \n",
    "* [3]: https://github.com/generonumero/tse_candidatos_2016/blob/master/GN_receitas_candidatos_2016.ipynb\n",
    "* [4]: https://github.com/rafapetter/suspeitando/blob/master/analise/licitacoes.ipynb\n",
    "* [5]: https://anaconda.org/\n",
    "* [6]: http://jupyter.org/\n",
    "* [7]: https://pandas.pydata.org/\n",
    "* [8]: http://www.numpy.org/\n",
    "* [9]: https://www.crummy.com/software/BeautifulSoup/bs4/doc/\n",
    "* [10]: https://scrapy.org/\n",
    "* [11]: https://scrapinghub.com/portia\n",
    "\n",
    "\n",
    "Livro: https://github.com/karanmilan/Automatic-Answer-Evaluation/blob/master/Python%203%20Text%20Processing%20with%20NLTK%203%20Cookbook.pdf\n",
    "\n",
    "WordCloud: https://github.com/rafapetter/suspeitando/blob/master/analise/licitacoes.ipynb"
   ]
  }
 ],
 "metadata": {
  "kernelspec": {
   "display_name": "Python 3",
   "language": "python",
   "name": "python3"
  },
  "language_info": {
   "codemirror_mode": {
    "name": "ipython",
    "version": 3
   },
   "file_extension": ".py",
   "mimetype": "text/x-python",
   "name": "python",
   "nbconvert_exporter": "python",
   "pygments_lexer": "ipython3",
   "version": "3.6.2"
  }
 },
 "nbformat": 4,
 "nbformat_minor": 2
}
